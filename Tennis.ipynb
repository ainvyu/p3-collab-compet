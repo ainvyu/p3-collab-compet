{
 "cells": [
  {
   "cell_type": "markdown",
   "metadata": {},
   "source": [
    "# Project: Collaboration and Competition"
   ]
  },
  {
   "cell_type": "code",
   "execution_count": 1,
   "metadata": {},
   "outputs": [
    {
     "data": {
      "text/plain": [
       "device(type='cuda', index=0)"
      ]
     },
     "execution_count": 1,
     "metadata": {},
     "output_type": "execute_result"
    }
   ],
   "source": [
    "from collections import deque\n",
    "import time\n",
    "\n",
    "import torch\n",
    "import torch.nn as nn\n",
    "import torch.optim as optim\n",
    "from config import Config, DeviceConfig\n",
    "\n",
    "from util import *\n",
    "\n",
    "device = torch.device(\"cuda:0\" if torch.cuda.is_available() else \"cpu\")\n",
    "#device = torch.device(\"cpu\")\n",
    "device\n",
    "\n",
    "DeviceConfig.device = device\n",
    "DeviceConfig.device"
   ]
  },
  {
   "cell_type": "markdown",
   "metadata": {},
   "source": [
    "# Create UnityEnvironment\n",
    "Create Unity Environment If you have a Linux environment, create an environment without a screen."
   ]
  },
  {
   "cell_type": "code",
   "execution_count": 2,
   "metadata": {},
   "outputs": [
    {
     "name": "stderr",
     "output_type": "stream",
     "text": [
      "INFO:unityagents:\n",
      "'Academy' started successfully!\n",
      "Unity Academy name: Academy\n",
      "        Number of Brains: 1\n",
      "        Number of External Brains : 1\n",
      "        Lesson number : 0\n",
      "        Reset Parameters :\n",
      "\t\t\n",
      "Unity brain name: TennisBrain\n",
      "        Number of Visual Observations (per agent): 0\n",
      "        Vector Observation space type: continuous\n",
      "        Vector Observation space size (per agent): 8\n",
      "        Number of stacked Vector Observation: 3\n",
      "        Vector Action space type: continuous\n",
      "        Vector Action space size (per agent): 2\n",
      "        Vector Action descriptions: , \n"
     ]
    },
    {
     "data": {
      "text/plain": [
       "<unityagents.environment.UnityEnvironment at 0x7fb0d4577630>"
      ]
     },
     "execution_count": 2,
     "metadata": {},
     "output_type": "execute_result"
    }
   ],
   "source": [
    "from unityagents import UnityEnvironment\n",
    "import numpy as np\n",
    "import platform\n",
    "\n",
    "if platform.system() == 'Linux':\n",
    "    env = UnityEnvironment(file_name='./Tennis_Linux_NoVis/Tennis.x86_64')\n",
    "elif platform.system() == 'Darwin':\n",
    "    env = UnityEnvironment(file_name='./Tennis.app')\n",
    "    \n",
    "env"
   ]
  },
  {
   "cell_type": "markdown",
   "metadata": {},
   "source": [
    "Environments contain **_brains_** which are responsible for deciding the actions of their associated agents. Here we check for the first brain available, and set it as the default brain we will be controlling from Python."
   ]
  },
  {
   "cell_type": "code",
   "execution_count": 3,
   "metadata": {},
   "outputs": [
    {
     "data": {
      "text/plain": [
       "('TennisBrain', <unityagents.brain.BrainParameters at 0x7fb0cbdaa358>)"
      ]
     },
     "execution_count": 3,
     "metadata": {},
     "output_type": "execute_result"
    }
   ],
   "source": [
    "# get the default brain\n",
    "brain_name = env.brain_names[0]\n",
    "brain = env.brains[brain_name]\n",
    "\n",
    "brain_name, brain"
   ]
  },
  {
   "cell_type": "markdown",
   "metadata": {},
   "source": [
    "### 2. Examine the State and Action Spaces\n",
    "\n",
    "Run the code cell below to print some information about the environment."
   ]
  },
  {
   "cell_type": "code",
   "execution_count": 4,
   "metadata": {},
   "outputs": [
    {
     "name": "stdout",
     "output_type": "stream",
     "text": [
      "Number of agents: 2\n",
      "Size of each action: 2\n",
      "There are 2 agents. Each observes a state with length: 24\n",
      "The state for the first agent looks like:\n",
      " [ 0.          0.          0.          0.          0.          0.\n",
      "  0.          0.          0.          0.          0.          0.\n",
      "  0.          0.          0.          0.         -6.65278625 -1.5\n",
      " -0.          0.          6.83172083  6.         -0.          0.        ]\n"
     ]
    }
   ],
   "source": [
    "# reset the environment\n",
    "env_info = env.reset(train_mode=True)[brain_name]\n",
    "\n",
    "# number of agents \n",
    "num_agents = len(env_info.agents)\n",
    "print('Number of agents:', num_agents)\n",
    "\n",
    "# size of each action\n",
    "action_size = brain.vector_action_space_size\n",
    "print('Size of each action:', action_size)\n",
    "\n",
    "# examine the state space \n",
    "states = env_info.vector_observations\n",
    "state_size = states.shape[1]\n",
    "print('There are {} agents. Each observes a state with length: {}'.format(states.shape[0], state_size))\n",
    "print('The state for the first agent looks like:\\n', states[0])"
   ]
  },
  {
   "cell_type": "markdown",
   "metadata": {},
   "source": [
    "### 3. Take Random Actions in the Environment\n",
    "\n",
    "In the next code cell, you will learn how to use the Python API to control the agent and receive feedback from the environment.\n",
    "\n",
    "Note that **in this coding environment, you will not be able to watch the agents while they are training**, and you should set `train_mode=True` to restart the environment."
   ]
  },
  {
   "cell_type": "code",
   "execution_count": 5,
   "metadata": {},
   "outputs": [],
   "source": [
    "%load_ext autoreload\n",
    "%autoreload 2\n",
    "\n",
    "from model import Actor, Critic\n",
    "from typing import NamedTuple\n",
    "from config import Config, DeviceConfig\n",
    "from ddpg_agent import Agent\n",
    "\n",
    "config = Config(num_workers=num_agents)"
   ]
  },
  {
   "cell_type": "code",
   "execution_count": 6,
   "metadata": {},
   "outputs": [],
   "source": [
    "def run(env, agent, max_step=10000, train_mode=True):\n",
    "    env_info = env.reset(train_mode=train_mode)[brain_name]\n",
    "    states = env_info.vector_observations\n",
    "    scores = np.zeros(num_agents)\n",
    "    agent.reset()\n",
    "\n",
    "    for t in range(max_step): \n",
    "        actions = agent.act(states)\n",
    "        env_info = env.step(actions)[brain_name]\n",
    "        next_states = env_info.vector_observations \n",
    "        rewards = env_info.rewards\n",
    "        dones = env_info.local_done\n",
    "        if train_mode:\n",
    "            agent.step(states, actions, rewards, next_states, dones)\n",
    "\n",
    "        states = next_states\n",
    "        scores += rewards \n",
    "        if np.any(dones):\n",
    "            break\n",
    "\n",
    "    return np.mean(scores)\n",
    "    \n",
    "    \n",
    "def ddpg(agent, train_mode=True):\n",
    "    scores_window = deque(maxlen=100)\n",
    "    scores = []\n",
    "        \n",
    "    for i in range(1, config.episode_count+1):\n",
    "        begin = time.time()\n",
    "        score = run(env=env, agent=agent, train_mode=train_mode)\n",
    "        scores_window.append(score)\n",
    "        score_average = np.mean(scores_window)\n",
    "        scores.append(score)\n",
    "        \n",
    "        if i % 10 == 0:\n",
    "            print('\\rEpisode {} Average score: {:.2f} Min: {:.2f} Max: {:.2f} Time: {:.2f} Epsilon: {:.2f}'.format(\n",
    "                i, \n",
    "                score_average, \n",
    "                np.min(scores), \n",
    "                np.max(scores), \n",
    "                time.time() - begin,\n",
    "                agent.epsilon\n",
    "            ))        \n",
    "                    \n",
    "        if score_average >= 0.5:\n",
    "            torch.save(agent.actor_local.state_dict(), 'checkpoint_actor.pth')\n",
    "            torch.save(agent.critic_local.state_dict(), 'checkpoint_critic.pth')\n",
    "            print('\\nSolve in {:d} episodes. Average score: {:.2f}'.format(i, score_average))            \n",
    "            break            \n",
    "            \n",
    "    return scores"
   ]
  },
  {
   "cell_type": "markdown",
   "metadata": {},
   "source": [
    "When finished, you can close the environment."
   ]
  },
  {
   "cell_type": "code",
   "execution_count": 9,
   "metadata": {},
   "outputs": [
    {
     "name": "stderr",
     "output_type": "stream",
     "text": [
      "/opt/conda/lib/python3.6/site-packages/torch/nn/functional.py:1036: UserWarning: nn.functional.tanh is deprecated. Use torch.tanh instead.\n",
      "  warnings.warn(\"nn.functional.tanh is deprecated. Use torch.tanh instead.\")\n"
     ]
    },
    {
     "name": "stdout",
     "output_type": "stream",
     "text": [
      "Episode 10 Average score: 0.00 Min: -0.00 Max: 0.05 Time: 0.04 Epsilon: 1.00\n",
      "Episode 20 Average score: -0.00 Min: -0.00 Max: 0.05 Time: 0.07 Epsilon: 1.00\n",
      "Episode 30 Average score: 0.00 Min: -0.00 Max: 0.05 Time: 0.17 Epsilon: 1.00\n",
      "Episode 40 Average score: -0.00 Min: -0.00 Max: 0.05 Time: 0.18 Epsilon: 1.00\n",
      "Episode 50 Average score: -0.00 Min: -0.00 Max: 0.05 Time: 0.17 Epsilon: 1.00\n",
      "Episode 60 Average score: -0.00 Min: -0.00 Max: 0.05 Time: 0.18 Epsilon: 1.00\n",
      "Episode 70 Average score: -0.00 Min: -0.00 Max: 0.05 Time: 0.18 Epsilon: 1.00\n",
      "Episode 80 Average score: -0.00 Min: -0.00 Max: 0.05 Time: 0.20 Epsilon: 1.00\n",
      "Episode 90 Average score: -0.00 Min: -0.00 Max: 0.05 Time: 0.33 Epsilon: 1.00\n",
      "Episode 100 Average score: -0.00 Min: -0.00 Max: 0.05 Time: 0.18 Epsilon: 1.00\n",
      "Episode 110 Average score: -0.00 Min: -0.00 Max: 0.05 Time: 0.33 Epsilon: 1.00\n",
      "Episode 120 Average score: -0.00 Min: -0.00 Max: 0.05 Time: 0.33 Epsilon: 1.00\n",
      "Episode 130 Average score: -0.00 Min: -0.00 Max: 0.05 Time: 0.18 Epsilon: 1.00\n",
      "Episode 140 Average score: -0.00 Min: -0.00 Max: 0.05 Time: 0.34 Epsilon: 1.00\n",
      "Episode 150 Average score: -0.00 Min: -0.00 Max: 0.05 Time: 0.35 Epsilon: 1.00\n",
      "Episode 160 Average score: -0.00 Min: -0.00 Max: 0.05 Time: 0.34 Epsilon: 1.00\n",
      "Episode 170 Average score: -0.00 Min: -0.00 Max: 0.05 Time: 0.40 Epsilon: 1.00\n",
      "Episode 180 Average score: -0.00 Min: -0.00 Max: 0.05 Time: 0.18 Epsilon: 1.00\n",
      "Episode 190 Average score: -0.00 Min: -0.00 Max: 0.05 Time: 0.19 Epsilon: 1.00\n",
      "Episode 200 Average score: -0.00 Min: -0.00 Max: 0.10 Time: 0.18 Epsilon: 1.00\n",
      "Episode 210 Average score: -0.00 Min: -0.00 Max: 0.10 Time: 0.33 Epsilon: 1.00\n",
      "Episode 220 Average score: -0.00 Min: -0.00 Max: 0.10 Time: 0.34 Epsilon: 1.00\n",
      "Episode 230 Average score: -0.00 Min: -0.00 Max: 0.10 Time: 0.36 Epsilon: 1.00\n",
      "Episode 240 Average score: -0.00 Min: -0.00 Max: 0.10 Time: 0.18 Epsilon: 1.00\n",
      "Episode 250 Average score: 0.00 Min: -0.00 Max: 0.10 Time: 0.34 Epsilon: 1.00\n",
      "Episode 260 Average score: 0.00 Min: -0.00 Max: 0.10 Time: 0.18 Epsilon: 1.00\n",
      "Episode 270 Average score: 0.00 Min: -0.00 Max: 0.10 Time: 0.19 Epsilon: 1.00\n",
      "Episode 280 Average score: 0.00 Min: -0.00 Max: 0.10 Time: 0.70 Epsilon: 1.00\n",
      "Episode 290 Average score: 0.00 Min: -0.00 Max: 0.10 Time: 0.37 Epsilon: 1.00\n",
      "Episode 300 Average score: 0.00 Min: -0.00 Max: 0.10 Time: 0.19 Epsilon: 1.00\n",
      "Episode 310 Average score: 0.00 Min: -0.00 Max: 0.10 Time: 0.34 Epsilon: 1.00\n",
      "Episode 320 Average score: 0.00 Min: -0.00 Max: 0.10 Time: 0.34 Epsilon: 1.00\n",
      "Episode 330 Average score: 0.00 Min: -0.00 Max: 0.10 Time: 0.35 Epsilon: 1.00\n",
      "Episode 340 Average score: 0.00 Min: -0.00 Max: 0.10 Time: 0.35 Epsilon: 1.00\n",
      "Episode 350 Average score: 0.01 Min: -0.00 Max: 0.10 Time: 0.35 Epsilon: 1.00\n",
      "Episode 360 Average score: 0.01 Min: -0.00 Max: 0.10 Time: 0.54 Epsilon: 1.00\n",
      "Episode 370 Average score: 0.01 Min: -0.00 Max: 0.10 Time: 0.19 Epsilon: 1.00\n",
      "Episode 380 Average score: 0.01 Min: -0.00 Max: 0.10 Time: 0.19 Epsilon: 1.00\n",
      "Episode 390 Average score: 0.01 Min: -0.00 Max: 0.10 Time: 0.34 Epsilon: 1.00\n",
      "Episode 400 Average score: 0.01 Min: -0.00 Max: 0.10 Time: 0.52 Epsilon: 1.00\n",
      "Episode 410 Average score: 0.01 Min: -0.00 Max: 0.10 Time: 0.53 Epsilon: 1.00\n",
      "Episode 420 Average score: 0.01 Min: -0.00 Max: 0.10 Time: 0.53 Epsilon: 1.00\n",
      "Episode 430 Average score: 0.01 Min: -0.00 Max: 0.10 Time: 0.33 Epsilon: 1.00\n",
      "Episode 440 Average score: 0.01 Min: -0.00 Max: 0.10 Time: 0.34 Epsilon: 1.00\n",
      "Episode 450 Average score: 0.01 Min: -0.00 Max: 0.10 Time: 0.34 Epsilon: 1.00\n",
      "Episode 460 Average score: 0.01 Min: -0.00 Max: 0.10 Time: 0.54 Epsilon: 1.00\n",
      "Episode 470 Average score: 0.01 Min: -0.00 Max: 0.10 Time: 0.52 Epsilon: 1.00\n",
      "Episode 480 Average score: 0.01 Min: -0.00 Max: 0.10 Time: 0.38 Epsilon: 1.00\n",
      "Episode 490 Average score: 0.01 Min: -0.00 Max: 0.10 Time: 0.34 Epsilon: 1.00\n",
      "Episode 500 Average score: 0.01 Min: -0.00 Max: 0.10 Time: 0.71 Epsilon: 1.00\n",
      "Episode 510 Average score: 0.02 Min: -0.00 Max: 0.10 Time: 0.37 Epsilon: 1.00\n",
      "Episode 520 Average score: 0.02 Min: -0.00 Max: 0.10 Time: 0.53 Epsilon: 1.00\n",
      "Episode 530 Average score: 0.02 Min: -0.00 Max: 0.10 Time: 0.20 Epsilon: 1.00\n",
      "Episode 540 Average score: 0.02 Min: -0.00 Max: 0.10 Time: 0.19 Epsilon: 1.00\n",
      "Episode 550 Average score: 0.02 Min: -0.00 Max: 0.10 Time: 0.34 Epsilon: 1.00\n",
      "Episode 560 Average score: 0.02 Min: -0.00 Max: 0.10 Time: 0.55 Epsilon: 1.00\n",
      "Episode 570 Average score: 0.02 Min: -0.00 Max: 0.10 Time: 0.18 Epsilon: 1.00\n",
      "Episode 580 Average score: 0.02 Min: -0.00 Max: 0.10 Time: 0.52 Epsilon: 1.00\n",
      "Episode 590 Average score: 0.03 Min: -0.00 Max: 0.10 Time: 0.35 Epsilon: 1.00\n",
      "Episode 600 Average score: 0.02 Min: -0.00 Max: 0.10 Time: 0.20 Epsilon: 1.00\n",
      "Episode 610 Average score: 0.02 Min: -0.00 Max: 0.10 Time: 0.54 Epsilon: 1.00\n",
      "Episode 620 Average score: 0.02 Min: -0.00 Max: 0.10 Time: 0.19 Epsilon: 1.00\n",
      "Episode 630 Average score: 0.02 Min: -0.00 Max: 0.10 Time: 0.19 Epsilon: 1.00\n",
      "Episode 640 Average score: 0.02 Min: -0.00 Max: 0.10 Time: 0.73 Epsilon: 1.00\n",
      "Episode 650 Average score: 0.02 Min: -0.00 Max: 0.10 Time: 0.72 Epsilon: 1.00\n",
      "Episode 660 Average score: 0.02 Min: -0.00 Max: 0.10 Time: 0.53 Epsilon: 1.00\n",
      "Episode 670 Average score: 0.02 Min: -0.00 Max: 0.10 Time: 0.56 Epsilon: 1.00\n",
      "Episode 680 Average score: 0.02 Min: -0.00 Max: 0.10 Time: 0.54 Epsilon: 1.00\n",
      "Episode 690 Average score: 0.03 Min: -0.00 Max: 0.10 Time: 0.37 Epsilon: 1.00\n",
      "Episode 700 Average score: 0.03 Min: -0.00 Max: 0.10 Time: 0.54 Epsilon: 1.00\n",
      "Episode 710 Average score: 0.03 Min: -0.00 Max: 0.10 Time: 0.55 Epsilon: 1.00\n",
      "Episode 720 Average score: 0.03 Min: -0.00 Max: 0.10 Time: 0.69 Epsilon: 1.00\n",
      "Episode 730 Average score: 0.04 Min: -0.00 Max: 0.10 Time: 0.55 Epsilon: 1.00\n",
      "Episode 740 Average score: 0.04 Min: -0.00 Max: 0.10 Time: 0.55 Epsilon: 1.00\n",
      "Episode 750 Average score: 0.04 Min: -0.00 Max: 0.10 Time: 0.54 Epsilon: 1.00\n",
      "Episode 760 Average score: 0.04 Min: -0.00 Max: 0.10 Time: 0.56 Epsilon: 1.00\n",
      "Episode 770 Average score: 0.04 Min: -0.00 Max: 0.15 Time: 1.11 Epsilon: 1.00\n",
      "Episode 780 Average score: 0.05 Min: -0.00 Max: 0.15 Time: 1.07 Epsilon: 1.00\n",
      "Episode 790 Average score: 0.05 Min: -0.00 Max: 0.15 Time: 0.94 Epsilon: 1.00\n",
      "Episode 800 Average score: 0.05 Min: -0.00 Max: 0.15 Time: 0.55 Epsilon: 1.00\n",
      "Episode 810 Average score: 0.05 Min: -0.00 Max: 0.15 Time: 0.55 Epsilon: 1.00\n",
      "Episode 820 Average score: 0.05 Min: -0.00 Max: 0.15 Time: 0.59 Epsilon: 1.00\n",
      "Episode 830 Average score: 0.05 Min: -0.00 Max: 0.15 Time: 0.54 Epsilon: 1.00\n",
      "Episode 840 Average score: 0.06 Min: -0.00 Max: 0.15 Time: 0.74 Epsilon: 1.00\n",
      "Episode 850 Average score: 0.06 Min: -0.00 Max: 0.15 Time: 0.37 Epsilon: 1.00\n",
      "Episode 860 Average score: 0.06 Min: -0.00 Max: 0.15 Time: 1.33 Epsilon: 1.00\n",
      "Episode 870 Average score: 0.06 Min: -0.00 Max: 0.15 Time: 1.01 Epsilon: 1.00\n",
      "Episode 880 Average score: 0.06 Min: -0.00 Max: 0.25 Time: 2.02 Epsilon: 1.00\n",
      "Episode 890 Average score: 0.06 Min: -0.00 Max: 0.25 Time: 0.55 Epsilon: 1.00\n",
      "Episode 900 Average score: 0.06 Min: -0.00 Max: 0.25 Time: 1.11 Epsilon: 1.00\n",
      "Episode 910 Average score: 0.06 Min: -0.00 Max: 0.25 Time: 0.71 Epsilon: 1.00\n",
      "Episode 920 Average score: 0.06 Min: -0.00 Max: 0.25 Time: 0.58 Epsilon: 1.00\n",
      "Episode 930 Average score: 0.06 Min: -0.00 Max: 0.25 Time: 0.92 Epsilon: 1.00\n",
      "Episode 940 Average score: 0.06 Min: -0.00 Max: 0.25 Time: 0.91 Epsilon: 1.00\n",
      "Episode 950 Average score: 0.07 Min: -0.00 Max: 0.25 Time: 0.56 Epsilon: 1.00\n",
      "Episode 960 Average score: 0.07 Min: -0.00 Max: 0.25 Time: 0.74 Epsilon: 1.00\n",
      "Episode 970 Average score: 0.07 Min: -0.00 Max: 0.25 Time: 0.56 Epsilon: 1.00\n",
      "Episode 980 Average score: 0.07 Min: -0.00 Max: 0.25 Time: 1.08 Epsilon: 1.00\n",
      "Episode 990 Average score: 0.06 Min: -0.00 Max: 0.25 Time: 0.72 Epsilon: 1.00\n",
      "Episode 1000 Average score: 0.06 Min: -0.00 Max: 0.25 Time: 0.58 Epsilon: 1.00\n",
      "Episode 1010 Average score: 0.07 Min: -0.00 Max: 0.25 Time: 0.56 Epsilon: 1.00\n",
      "Episode 1020 Average score: 0.07 Min: -0.00 Max: 0.25 Time: 0.92 Epsilon: 1.00\n",
      "Episode 1030 Average score: 0.07 Min: -0.00 Max: 0.25 Time: 0.57 Epsilon: 1.00\n",
      "Episode 1040 Average score: 0.07 Min: -0.00 Max: 0.30 Time: 0.55 Epsilon: 1.00\n",
      "Episode 1050 Average score: 0.08 Min: -0.00 Max: 0.30 Time: 1.28 Epsilon: 1.00\n",
      "Episode 1060 Average score: 0.09 Min: -0.00 Max: 0.95 Time: 0.56 Epsilon: 1.00\n",
      "Episode 1070 Average score: 0.09 Min: -0.00 Max: 0.95 Time: 0.76 Epsilon: 1.00\n",
      "Episode 1080 Average score: 0.09 Min: -0.00 Max: 0.95 Time: 0.91 Epsilon: 1.00\n",
      "Episode 1090 Average score: 0.09 Min: -0.00 Max: 0.95 Time: 0.92 Epsilon: 1.00\n",
      "Episode 1100 Average score: 0.10 Min: -0.00 Max: 0.95 Time: 1.12 Epsilon: 1.00\n",
      "Episode 1110 Average score: 0.10 Min: -0.00 Max: 0.95 Time: 1.51 Epsilon: 1.00\n",
      "Episode 1120 Average score: 0.10 Min: -0.00 Max: 0.95 Time: 1.09 Epsilon: 1.00\n",
      "Episode 1130 Average score: 0.10 Min: -0.00 Max: 0.95 Time: 2.24 Epsilon: 1.00\n",
      "Episode 1140 Average score: 0.10 Min: -0.00 Max: 0.95 Time: 1.32 Epsilon: 1.00\n",
      "Episode 1150 Average score: 0.09 Min: -0.00 Max: 0.95 Time: 0.97 Epsilon: 1.00\n",
      "Episode 1160 Average score: 0.09 Min: -0.00 Max: 0.95 Time: 0.37 Epsilon: 1.00\n",
      "Episode 1170 Average score: 0.12 Min: -0.00 Max: 1.35 Time: 1.54 Epsilon: 1.00\n",
      "Episode 1180 Average score: 0.17 Min: -0.00 Max: 1.65 Time: 0.96 Epsilon: 1.00\n",
      "Episode 1190 Average score: 0.18 Min: -0.00 Max: 1.65 Time: 0.97 Epsilon: 1.00\n",
      "Episode 1200 Average score: 0.20 Min: -0.00 Max: 1.65 Time: 1.73 Epsilon: 1.00\n",
      "Episode 1210 Average score: 0.21 Min: -0.00 Max: 1.65 Time: 3.66 Epsilon: 1.00\n",
      "Episode 1220 Average score: 0.22 Min: -0.00 Max: 1.65 Time: 0.95 Epsilon: 1.00\n",
      "Episode 1230 Average score: 0.21 Min: -0.00 Max: 1.65 Time: 0.38 Epsilon: 1.00\n",
      "Episode 1240 Average score: 0.21 Min: -0.00 Max: 1.65 Time: 0.97 Epsilon: 1.00\n",
      "Episode 1250 Average score: 0.21 Min: -0.00 Max: 1.65 Time: 1.64 Epsilon: 1.00\n",
      "Episode 1260 Average score: 0.23 Min: -0.00 Max: 1.65 Time: 0.96 Epsilon: 1.00\n",
      "Episode 1270 Average score: 0.21 Min: -0.00 Max: 1.65 Time: 0.58 Epsilon: 1.00\n",
      "Episode 1280 Average score: 0.21 Min: -0.00 Max: 1.70 Time: 1.02 Epsilon: 1.00\n",
      "Episode 1290 Average score: 0.22 Min: -0.00 Max: 1.70 Time: 0.40 Epsilon: 1.00\n",
      "Episode 1300 Average score: 0.21 Min: -0.00 Max: 1.70 Time: 1.20 Epsilon: 1.00\n",
      "Episode 1310 Average score: 0.24 Min: -0.00 Max: 1.80 Time: 14.17 Epsilon: 1.00\n",
      "Episode 1320 Average score: 0.28 Min: -0.00 Max: 1.80 Time: 1.80 Epsilon: 1.00\n",
      "Episode 1330 Average score: 0.31 Min: -0.00 Max: 1.80 Time: 7.39 Epsilon: 1.00\n",
      "Episode 1340 Average score: 0.33 Min: -0.00 Max: 1.80 Time: 1.26 Epsilon: 1.00\n",
      "Episode 1350 Average score: 0.35 Min: -0.00 Max: 1.80 Time: 2.93 Epsilon: 1.00\n",
      "Episode 1360 Average score: 0.40 Min: -0.00 Max: 2.30 Time: 7.79 Epsilon: 1.00\n",
      "Episode 1370 Average score: 0.49 Min: -0.00 Max: 2.60 Time: 5.11 Epsilon: 1.00\n",
      "\n",
      "Solve in 1373 episodes. Average score: 0.50\n"
     ]
    }
   ],
   "source": [
    "rand_seed = 0\n",
    "agent = Agent(config=config,\n",
    "              state_size=state_size, \n",
    "              action_size=action_size, \n",
    "              num_agents=num_agents, \n",
    "              random_seed=rand_seed,\n",
    "              device=device)\n",
    "\n",
    "scores = ddpg(agent)"
   ]
  },
  {
   "cell_type": "code",
   "execution_count": 17,
   "metadata": {},
   "outputs": [
    {
     "data": {
      "image/png": "[encoded data removed]",
      "text/plain": [
       "<Figure size 432x288 with 1 Axes>"
      ]
     },
     "metadata": {
      "needs_background": "light"
     },
     "output_type": "display_data"
    }
   ],
   "source": [
    "import matplotlib.pyplot as plt\n",
    "\n",
    "fig = plt.figure()\n",
    "ax = fig.add_subplot(111)\n",
    "plt.plot(np.arange(len(scores)), scores)\n",
    "plt.ylabel('Score')\n",
    "plt.xlabel('Episode #')\n",
    "plt.savefig(\"resources/plot_average_of_100_episodes_batch_size_{batch_size}.png\".format(batch_size=config.mini_batch_size), format=\"png\")\n",
    "plt.show()"
   ]
  },
  {
   "cell_type": "code",
   "execution_count": 19,
   "metadata": {},
   "outputs": [
    {
     "name": "stderr",
     "output_type": "stream",
     "text": [
      "/opt/conda/lib/python3.6/site-packages/torch/nn/functional.py:1036: UserWarning: nn.functional.tanh is deprecated. Use torch.tanh instead.\n",
      "  warnings.warn(\"nn.functional.tanh is deprecated. Use torch.tanh instead.\")\n"
     ]
    },
    {
     "name": "stdout",
     "output_type": "stream",
     "text": [
      "\n",
      "Solve in 1 episodes. Average score: 0.85\n"
     ]
    }
   ],
   "source": [
    "rand_seed = 0\n",
    "agent = Agent(config=config,\n",
    "              state_size=state_size, \n",
    "              action_size=action_size, \n",
    "              num_agents=num_agents, \n",
    "              random_seed=rand_seed,\n",
    "              device=torch.device('cpu'),\n",
    "              actor_trained_weight_filename=\"checkpoint_actor.pth\", \n",
    "              critic_trained_weight_filename=\"checkpoint_critic.pth\")\n",
    "\n",
    "scores = ddpg(agent, train_mode=False)"
   ]
  },
  {
   "cell_type": "code",
   "execution_count": 6,
   "metadata": {},
   "outputs": [],
   "source": [
    "env.close()"
   ]
  }
 ],
 "metadata": {
  "kernelspec": {
   "display_name": "Python 3",
   "language": "python",
   "name": "python3"
  },
  "language_info": {
   "codemirror_mode": {
    "name": "ipython",
    "version": 3
   },
   "file_extension": ".py",
   "mimetype": "text/x-python",
   "name": "python",
   "nbconvert_exporter": "python",
   "pygments_lexer": "ipython3",
   "version": "3.6.5"
  }
 },
 "nbformat": 4,
 "nbformat_minor": 2
}
